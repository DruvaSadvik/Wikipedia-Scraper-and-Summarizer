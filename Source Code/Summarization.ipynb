{
 "cells": [
  {
   "cell_type": "code",
   "execution_count": null,
   "metadata": {},
   "outputs": [],
   "source": [
    "import requests  # Library for making HTTP requests\n",
    "from bs4 import BeautifulSoup  # Library for parsing HTML\n",
    "from docx import Document  # Library for creating Word documents\n",
    "from vertexai.preview.language_models import TextGenerationModel  # Language model for text summarization"
   ]
  },
  {
   "cell_type": "code",
   "execution_count": null,
   "metadata": {},
   "outputs": [],
   "source": [
    "# Initialize the text generation model\n",
    "text_generation_model = TextGenerationModel.from_pretrained(\"text-bison@001\")"
   ]
  },
  {
   "cell_type": "code",
   "execution_count": null,
   "metadata": {},
   "outputs": [],
   "source": [
    "doc = Document()\n",
    "url = \"https://en.wikipedia.org/wiki/Alexander_the_Great\"\n",
    "response = requests.get(url)\n",
    "soup = BeautifulSoup(response.text, \"html.parser\")\n",
    "content = {}\n",
    "main_container = soup.find('div',class_ = 'mw-content-container')"
   ]
  },
  {
   "cell_type": "code",
   "execution_count": null,
   "metadata": {},
   "outputs": [],
   "source": [
    "# Iterate through headings and paragraphs in the Wikipedia content\n",
    "for main in main_container.select('h1, h2, h3, h4, h5, h6, p'):\n",
    "    if main.name == 'h1':\n",
    "        # If it's an h1 heading, add it as a top-level heading in the document\n",
    "        print(main.text)\n",
    "        doc.add_heading(main.text.strip(), 0)\n",
    "    elif main.name == 'h2':\n",
    "        # If it's an h2 heading, add it as a first-level heading in the document\n",
    "        print(main.text)\n",
    "        doc.add_heading(main.text.strip(), level=1)\n",
    "    elif main.name in ['h3', 'h4', 'h5', 'h6']:\n",
    "        # If it's an h3, h4, h5, or h6 heading, add it as a lower-level heading in the document\n",
    "        print(main.text)\n",
    "        doc.add_heading(main.text.strip(), level=2)\n",
    "    else:\n",
    "        # If it's a paragraph, construct a prompt for text summarization\n",
    "        prompt = \"Summarize the text while retaining all critical details in a brief format. \" + main.text\n",
    "        \n",
    "        # Generate a summary using the text generation model\n",
    "        summary = text_generation_model.predict(prompt, max_output_tokens=500).text\n",
    "        \n",
    "        # Add the generated summary as a paragraph in the document\n",
    "        doc.add_paragraph(summary.strip())\n",
    "        \n",
    "        # Print the generated summary for reference\n",
    "        print(summary)\n"
   ]
  },
  {
   "cell_type": "code",
   "execution_count": null,
   "metadata": {},
   "outputs": [],
   "source": [
    "# Save the generated Word document with a filename\n",
    "doc.save('Alexander_Summary.docx')"
   ]
  }
 ],
 "metadata": {
  "kernelspec": {
   "display_name": "Python 3",
   "language": "python",
   "name": "python3"
  },
  "language_info": {
   "codemirror_mode": {
    "name": "ipython",
    "version": 3
   },
   "file_extension": ".py",
   "mimetype": "text/x-python",
   "name": "python",
   "nbconvert_exporter": "python",
   "pygments_lexer": "ipython3",
   "version": "3.11.5"
  },
  "orig_nbformat": 4
 },
 "nbformat": 4,
 "nbformat_minor": 2
}
