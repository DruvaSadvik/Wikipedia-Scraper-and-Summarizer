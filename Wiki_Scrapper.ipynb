{
 "cells": [
  {
   "cell_type": "code",
   "execution_count": 4,
   "metadata": {},
   "outputs": [],
   "source": [
    "import requests  # Library for making HTTP requests\n",
    "from bs4 import BeautifulSoup  # Library for parsing HTML\n",
    "from docx import Document  # Library for creating Word documents"
   ]
  },
  {
   "cell_type": "code",
   "execution_count": 5,
   "metadata": {},
   "outputs": [],
   "source": [
    "# Prompting the user for a Wikipedia topic\n",
    "topic = input(\"What you want to scrape from Wikipedia. (Try to mention some popular Keyword)\")\n",
    "\n",
    "# Constructing the URL for the Wikipedia page\n",
    "url = f\"https://en.wikipedia.org/wiki/{topic}\"\n",
    "\n",
    "# Sending an HTTP GET request to the URL\n",
    "response = requests.get(url)\n",
    "\n",
    "# Parsing the HTML content of the page using BeautifulSoup\n",
    "soup = BeautifulSoup(response.text, \"html.parser\")\n"
   ]
  },
  {
   "cell_type": "code",
   "execution_count": null,
   "metadata": {},
   "outputs": [],
   "source": [
    "# Creating a new Word document\n",
    "doc = Document()"
   ]
  },
  {
   "cell_type": "code",
   "execution_count": 6,
   "metadata": {},
   "outputs": [],
   "source": [
    "# Finding the main content container of the Wikipedia page\n",
    "main_container = soup.find('div', class_='mw-content-container')\n",
    "\n",
    "# Iterating through headings and paragraphs in the container\n",
    "for main in main_container.select('h1, h2, h3, h4, h5, h6, p'):\n",
    "    if main.name == 'h1':\n",
    "        doc.add_heading(main.text.strip(), 0)  # Adding a top-level heading\n",
    "    elif main.name == 'h2':\n",
    "        doc.add_heading(main.text.strip(), level=1)  # Adding a first-level heading\n",
    "    elif main.name in ['h3', 'h4', 'h5', 'h6']:\n",
    "        doc.add_heading(main.text.strip(), level=2)  # Adding lower-level headings\n",
    "    else:\n",
    "        doc.add_paragraph(main.text.strip())  # Adding paragraphs\n"
   ]
  },
  {
   "cell_type": "code",
   "execution_count": null,
   "metadata": {},
   "outputs": [],
   "source": [
    "# Saving the generated Word document with the topic as the filename\n",
    "doc.save(f'{topic}.docx')"
   ]
  }
 ],
 "metadata": {
  "kernelspec": {
   "display_name": "Python 3",
   "language": "python",
   "name": "python3"
  },
  "language_info": {
   "codemirror_mode": {
    "name": "ipython",
    "version": 3
   },
   "file_extension": ".py",
   "mimetype": "text/x-python",
   "name": "python",
   "nbconvert_exporter": "python",
   "pygments_lexer": "ipython3",
   "version": "3.11.5"
  },
  "orig_nbformat": 4
 },
 "nbformat": 4,
 "nbformat_minor": 2
}
